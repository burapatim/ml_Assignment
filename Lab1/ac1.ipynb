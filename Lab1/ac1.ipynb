{
 "cells": [
  {
   "cell_type": "code",
   "execution_count": 16,
   "metadata": {},
   "outputs": [],
   "source": [
    "from re import X\n",
    "import numpy as np\n",
    "import pandas as pd\n",
    "import matplotlib.pyplot as plt\n",
    "import seaborn as sns\n",
    "from sklearn import preprocessing\n"
   ]
  },
  {
   "cell_type": "code",
   "execution_count": null,
   "metadata": {},
   "outputs": [],
   "source": [
    "def remove_outlier(df_in,col_name_x,col_name_y):\n",
    "    q1_x = df_in[col_name_x].quantile(0.25)\n",
    "    q3_x = df_in[col_name_x].quantile(0.75)\n",
    "    iqr_x = q3_x-q1_x #Interquartile range\n",
    "    fence_low_x  = q1_x-1.5*iqr_x\n",
    "    fence_high_x = q3_x+1.5*iqr_x\n",
    "    q1_y = df_in[col_name_y].quantile(0.25)\n",
    "    q3_y = df_in[col_name_y].quantile(0.75)\n",
    "    iqr_y = q3_y-q1_y #Interquartile range\n",
    "    fence_low_y  = q1_y-1.5*iqr_y\n",
    "    fence_high_y = q3_y+1.5*iqr_y\n",
    "    df_out = df_in.loc[((df_in[col_name_x] > fence_low_x) & (df_in[col_name_x] < fence_high_x)) & ((df_in[col_name_y] > fence_low_y) & (df_in[col_name_y] < fence_high_y))]\n",
    "    return df_out\n",
    "\n"
   ]
  },
  {
   "cell_type": "code",
   "execution_count": null,
   "metadata": {},
   "outputs": [],
   "source": [
    "data = pd.read_csv(\"\")"
   ]
  },
  {
   "cell_type": "markdown",
   "metadata": {},
   "source": [
    "REPLACE"
   ]
  },
  {
   "cell_type": "markdown",
   "metadata": {},
   "source": [
    "use data[].fillna(data() , inplace = True)"
   ]
  },
  {
   "cell_type": "code",
   "execution_count": null,
   "metadata": {},
   "outputs": [],
   "source": [
    "data.replace({r'[^\\x00-\\x7F]+':''}, regex=True , inplace =True)\n",
    "data['X'].fillna(data['X'],inplace=True)\n",
    "data['Y'].fillna(value= data[\"Y\"],inplace=True)\n",
    "data['Z'].fillna(np.nan , inplace=True)"
   ]
  },
  {
   "cell_type": "markdown",
   "metadata": {},
   "source": [
    "แปลงชนิดของตัวแปร\n",
    "ขั้นตอนแรก    pd.to_numeric   ทำให้เป็นตัวเลขก่อน\n",
    "ขั้นตอนสอง    data[] = data[].astype('Int64')         บอกว่า type อะไร"
   ]
  },
  {
   "cell_type": "code",
   "execution_count": null,
   "metadata": {},
   "outputs": [],
   "source": [
    "data['X'] = pd.to_numeric(data['X'],errors='coerce')\n",
    "data['Y'] = pd.to_numeric(data['Y'],errors='coerce')\n",
    "data['X'] = data['X'].astype('Int64')\n",
    "data['Y'] = data['Y'].astype('float64')"
   ]
  },
  {
   "cell_type": "markdown",
   "metadata": {},
   "source": [
    "dropduplicate หรือ ดรอปบรรทัดที่เหมือนกันหมด"
   ]
  },
  {
   "cell_type": "code",
   "execution_count": null,
   "metadata": {},
   "outputs": [],
   "source": [
    "data = data.drop_duplicates"
   ]
  },
  {
   "cell_type": "markdown",
   "metadata": {},
   "source": [
    "drop na ที่มากกว่า 1 ตัวขึ้นไป"
   ]
  },
  {
   "cell_type": "code",
   "execution_count": null,
   "metadata": {},
   "outputs": [],
   "source": [
    "data = data[data.isnull().sum(axis=1)<2]\n"
   ]
  },
  {
   "cell_type": "code",
   "execution_count": null,
   "metadata": {},
   "outputs": [],
   "source": [
    "Xmedian = data['X'].median()\n",
    "Xmedian = Xmedian.astype('Int64')\n",
    "Ymean = data('Y').mean()"
   ]
  },
  {
   "cell_type": "code",
   "execution_count": null,
   "metadata": {},
   "outputs": [],
   "source": [
    "data['X'].fillna(Xmedian , inplace = True)\n",
    "data['Y'].fillna(Ymean, inplace = True)\n",
    "data['Z'].ffill(inplace = True)"
   ]
  },
  {
   "cell_type": "code",
   "execution_count": null,
   "metadata": {},
   "outputs": [],
   "source": [
    "scale = preprocessing.MinMaxScaler()"
   ]
  },
  {
   "cell_type": "code",
   "execution_count": null,
   "metadata": {},
   "outputs": [],
   "source": [
    "data = remove_outlier(data,'X','Y')"
   ]
  },
  {
   "cell_type": "code",
   "execution_count": null,
   "metadata": {},
   "outputs": [],
   "source": [
    "data[[\"X\",\"Y\"]] = pd.DataFrame(scale.fit_transform(data[[\"X\",\"Y\"]].values), columns=[\"X\",\"Y\"] , index = data.index)"
   ]
  },
  {
   "cell_type": "markdown",
   "metadata": {},
   "source": [
    "print Boxplot\n"
   ]
  },
  {
   "cell_type": "code",
   "execution_count": null,
   "metadata": {},
   "outputs": [],
   "source": [
    "fig , ax = plt.subplot(1,2)\n",
    "ax[0].boxplot(data['X'])\n",
    "ax[0].set_xticklables('X')\n",
    "ax[1].boxplot(data['Y'])\n",
    "ax[1].set_xticklables('Y')"
   ]
  },
  {
   "cell_type": "code",
   "execution_count": null,
   "metadata": {},
   "outputs": [],
   "source": [
    "le =preprocessing.LabelEncoder()\n",
    "le.fit(data['Z'])\n",
    "data['Z_category'] = le.transform(data['Z'])"
   ]
  },
  {
   "cell_type": "code",
   "execution_count": null,
   "metadata": {},
   "outputs": [],
   "source": [
    "enc = preprocessing.OneHotEncoder()\n",
    "datae = enc.fit_transform(data['X'].values.reshape(-1,1).toarray)\n",
    "dataez = pd.DataFrame(datae, columns=['bird','cat','dog'])"
   ]
  },
  {
   "cell_type": "code",
   "execution_count": null,
   "metadata": {},
   "outputs": [],
   "source": [
    "data = data.reset_index(drop=True)\n",
    "data = data.join(dataez)\n",
    "\n",
    "plt.show()"
   ]
  }
 ],
 "metadata": {
  "kernelspec": {
   "display_name": "Python 3.10.6 64-bit",
   "language": "python",
   "name": "python3"
  },
  "language_info": {
   "codemirror_mode": {
    "name": "ipython",
    "version": 3
   },
   "file_extension": ".py",
   "mimetype": "text/x-python",
   "name": "python",
   "nbconvert_exporter": "python",
   "pygments_lexer": "ipython3",
   "version": "3.10.6 (tags/v3.10.6:9c7b4bd, Aug  1 2022, 21:53:49) [MSC v.1932 64 bit (AMD64)]"
  },
  "orig_nbformat": 4,
  "vscode": {
   "interpreter": {
    "hash": "68b1c72af2dcb23029d354f4a5628856d5fee99ed241b62fc8a23951ed423aeb"
   }
  }
 },
 "nbformat": 4,
 "nbformat_minor": 2
}
